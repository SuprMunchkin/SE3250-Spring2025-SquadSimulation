{
  "cells": [
    {
      "cell_type": "markdown",
      "id": "fbeb0ee0",
      "metadata": {
        "id": "fbeb0ee0"
      },
      "source": [
        "# 🛡️ Interactive Squad Simulation\n",
        "Follow the directions at the top of each cell. After running the last cell, use the sliders and dropdowns below to run and visualize the simulation."
      ]
    },
    {
      "cell_type": "code",
      "execution_count": null,
      "id": "113da30a",
      "metadata": {
        "id": "113da30a"
      },
      "outputs": [],
      "source": [
        "# If you are working in colab, use this block to clone the GitHub repo and install dependencies.\n",
        "%cd /content/\n",
        "!rm -rf SE3250-Spring2025-SquadSimulation\n",
        "!git clone https://github.com/SuprMunchkin/SE3250-Spring2025-SquadSimulation.git\n",
        "%cd SE3250-Spring2025-SquadSimulation\n",
        "!pip install -r requirements.txt\n",
        "%ls"
      ]
    },
    {
      "cell_type": "code",
      "execution_count": null,
      "id": "pamA-bcnQy1S",
      "metadata": {
        "id": "pamA-bcnQy1S"
      },
      "outputs": [],
      "source": [
        "# If you are working in colab, run this codeblock to change branches or pull down the latest changes.\n",
        "# Be sure to change the branch name to the one you are working on!...\n",
        "!git fetch\n",
        "!git checkout Justin\n",
        "!git pull\n",
        "%ls"
      ]
    },
    {
      "cell_type": "code",
      "execution_count": null,
      "id": "e79b6fd8",
      "metadata": {
        "id": "e79b6fd8"
      },
      "outputs": [],
      "source": [
        "# Import and setup\n",
        "import sys\n",
        "import yaml\n",
        "import matplotlib.pyplot as plt\n",
        "from ipywidgets import interact\n",
        "\n",
        "import os\n",
        "sys.path.append(\"../app/models\")\n",
        "from squad_simulation import *\n"
      ]
    },
    {
      "cell_type": "code",
      "execution_count": null,
      "id": "dba84dea",
      "metadata": {
        "id": "dba84dea"
      },
      "outputs": [],
      "source": [
        "# Define interactive runner\n",
        "def run_interactive_sim(blue_stock, hostile_stock, direction_deviation, armor_type, environment):\n",
        "    params = {\n",
        "        \"blue_stock\": blue_stock,\n",
        "        \"hostile_stock\": hostile_stock,\n",
        "        \"direction_deviation\": direction_deviation,\n",
        "        \"armor_type\": armor_type,\n",
        "        \"environment\": environment\n",
        "    }\n",
        "    result = run_simulation(params)\n",
        "\n",
        "    positions = result['positions']\n",
        "    hostile_positions = result['hostile_positions']\n",
        "    x_vals, y_vals = zip(*positions)\n",
        "    hx_vals, hy_vals = zip(*hostile_positions)\n",
        "\n",
        "    plt.figure(figsize=(8, 6))\n",
        "    plt.plot(x_vals, y_vals, label='Blue Patrol Path', color='blue')\n",
        "    plt.plot(hx_vals, hy_vals, label='Hostile Path', linestyle='--', color='red')\n",
        "    plt.scatter(x_vals[0], y_vals[0], c='green', label='Start', zorder=5)\n",
        "    plt.scatter(x_vals[-1], y_vals[-1], c='purple', label='End', zorder=5)\n",
        "    plt.title(\"Squad Movement Simulation\")\n",
        "    plt.xlabel(\"X Position\")\n",
        "    plt.ylabel(\"Y Position\")\n",
        "    plt.legend()\n",
        "    plt.grid(True)\n",
        "    plt.axis('equal')\n",
        "    plt.show()\n",
        "\n",
        "    print(f\"👥 Blue Remaining: {result['blue']['stock']} / {params['blue_stock']}\")\n",
        "    print(f\"🔴 Hostile Remaining: {result['hostile']['stock']} / {params['hostile_stock']}\")\n"
      ]
    },
    {
      "cell_type": "code",
      "execution_count": null,
      "id": "baa4efee",
      "metadata": {
        "id": "baa4efee"
      },
      "outputs": [],
      "source": [
        "# Create interactive widget interface\n",
        "interact(\n",
        "    run_interactive_sim,\n",
        "    blue_stock=(1, 20),\n",
        "    hostile_stock=(1, 40),\n",
        "    direction_deviation=(0, 45, 5),\n",
        "    armor_type=list(config['armor_profiles'].keys()),\n",
        "    environment=list(config['threat_probs'].keys())\n",
        ")\n"
      ]
    }
  ],
  "metadata": {
    "colab": {
      "provenance": []
    },
    "kernelspec": {
      "display_name": "Python 3",
      "name": "python3"
    },
    "language_info": {
      "codemirror_mode": {
        "name": "ipython",
        "version": 3
      },
      "file_extension": ".py",
      "mimetype": "text/x-python",
      "name": "python",
      "nbconvert_exporter": "python",
      "pygments_lexer": "ipython3",
      "version": "3.12.1"
    }
  },
  "nbformat": 4,
  "nbformat_minor": 5
}