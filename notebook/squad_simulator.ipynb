{
  "cells": [
    {
      "cell_type": "markdown",
      "id": "fbeb0ee0",
      "metadata": {
        "id": "fbeb0ee0"
      },
      "source": [
        "# 🛡️ Interactive Squad Simulation\n",
        "Use the sliders and dropdowns below to run and visualize the simulation."
      ]
    },
    {
      "cell_type": "code",
      "execution_count": 56,
      "id": "113da30a",
      "metadata": {
        "id": "113da30a",
        "outputId": "7075e980-0905-4614-83ae-92489485c397",
        "colab": {
          "base_uri": "https://localhost:8080/"
        }
      },
      "outputs": [
        {
          "output_type": "stream",
          "name": "stdout",
          "text": [
            "/content\n",
            "Cloning into 'SE3250-Spring2025-SquadSimulation'...\n",
            "remote: Enumerating objects: 92, done.\u001b[K\n",
            "remote: Counting objects: 100% (92/92), done.\u001b[K\n",
            "remote: Compressing objects: 100% (67/67), done.\u001b[K\n",
            "remote: Total 92 (delta 26), reused 66 (delta 13), pack-reused 0 (from 0)\u001b[K\n",
            "Receiving objects: 100% (92/92), 1.77 MiB | 8.37 MiB/s, done.\n",
            "Resolving deltas: 100% (26/26), done.\n",
            "/content/SE3250-Spring2025-SquadSimulation\n",
            "Requirement already satisfied: flask in /usr/local/lib/python3.11/dist-packages (from -r requirements.txt (line 1)) (3.1.1)\n",
            "Requirement already satisfied: se-lib in /usr/local/lib/python3.11/dist-packages (from -r requirements.txt (line 2)) (0.42.0)\n",
            "Requirement already satisfied: blinker>=1.9.0 in /usr/local/lib/python3.11/dist-packages (from flask->-r requirements.txt (line 1)) (1.9.0)\n",
            "Requirement already satisfied: click>=8.1.3 in /usr/local/lib/python3.11/dist-packages (from flask->-r requirements.txt (line 1)) (8.2.0)\n",
            "Requirement already satisfied: itsdangerous>=2.2.0 in /usr/local/lib/python3.11/dist-packages (from flask->-r requirements.txt (line 1)) (2.2.0)\n",
            "Requirement already satisfied: jinja2>=3.1.2 in /usr/local/lib/python3.11/dist-packages (from flask->-r requirements.txt (line 1)) (3.1.6)\n",
            "Requirement already satisfied: markupsafe>=2.1.1 in /usr/local/lib/python3.11/dist-packages (from flask->-r requirements.txt (line 1)) (3.0.2)\n",
            "Requirement already satisfied: werkzeug>=3.1.0 in /usr/local/lib/python3.11/dist-packages (from flask->-r requirements.txt (line 1)) (3.1.3)\n",
            "Requirement already satisfied: graphviz in /usr/local/lib/python3.11/dist-packages (from se-lib->-r requirements.txt (line 2)) (0.20.3)\n",
            "Requirement already satisfied: ipython in /usr/local/lib/python3.11/dist-packages (from se-lib->-r requirements.txt (line 2)) (7.34.0)\n",
            "Requirement already satisfied: matplotlib in /usr/local/lib/python3.11/dist-packages (from se-lib->-r requirements.txt (line 2)) (3.10.0)\n",
            "Requirement already satisfied: pandas in /usr/local/lib/python3.11/dist-packages (from se-lib->-r requirements.txt (line 2)) (2.2.2)\n",
            "Requirement already satisfied: pysd in /usr/local/lib/python3.11/dist-packages (from se-lib->-r requirements.txt (line 2)) (3.14.3)\n",
            "Requirement already satisfied: simpy in /usr/local/lib/python3.11/dist-packages (from se-lib->-r requirements.txt (line 2)) (4.1.1)\n",
            "Requirement already satisfied: setuptools>=18.5 in /usr/local/lib/python3.11/dist-packages (from ipython->se-lib->-r requirements.txt (line 2)) (75.2.0)\n",
            "Requirement already satisfied: jedi>=0.16 in /usr/local/lib/python3.11/dist-packages (from ipython->se-lib->-r requirements.txt (line 2)) (0.19.2)\n",
            "Requirement already satisfied: decorator in /usr/local/lib/python3.11/dist-packages (from ipython->se-lib->-r requirements.txt (line 2)) (4.4.2)\n",
            "Requirement already satisfied: pickleshare in /usr/local/lib/python3.11/dist-packages (from ipython->se-lib->-r requirements.txt (line 2)) (0.7.5)\n",
            "Requirement already satisfied: traitlets>=4.2 in /usr/local/lib/python3.11/dist-packages (from ipython->se-lib->-r requirements.txt (line 2)) (5.7.1)\n",
            "Requirement already satisfied: prompt-toolkit!=3.0.0,!=3.0.1,<3.1.0,>=2.0.0 in /usr/local/lib/python3.11/dist-packages (from ipython->se-lib->-r requirements.txt (line 2)) (3.0.51)\n",
            "Requirement already satisfied: pygments in /usr/local/lib/python3.11/dist-packages (from ipython->se-lib->-r requirements.txt (line 2)) (2.19.1)\n",
            "Requirement already satisfied: backcall in /usr/local/lib/python3.11/dist-packages (from ipython->se-lib->-r requirements.txt (line 2)) (0.2.0)\n",
            "Requirement already satisfied: matplotlib-inline in /usr/local/lib/python3.11/dist-packages (from ipython->se-lib->-r requirements.txt (line 2)) (0.1.7)\n",
            "Requirement already satisfied: pexpect>4.3 in /usr/local/lib/python3.11/dist-packages (from ipython->se-lib->-r requirements.txt (line 2)) (4.9.0)\n",
            "Requirement already satisfied: contourpy>=1.0.1 in /usr/local/lib/python3.11/dist-packages (from matplotlib->se-lib->-r requirements.txt (line 2)) (1.3.2)\n",
            "Requirement already satisfied: cycler>=0.10 in /usr/local/lib/python3.11/dist-packages (from matplotlib->se-lib->-r requirements.txt (line 2)) (0.12.1)\n",
            "Requirement already satisfied: fonttools>=4.22.0 in /usr/local/lib/python3.11/dist-packages (from matplotlib->se-lib->-r requirements.txt (line 2)) (4.58.0)\n",
            "Requirement already satisfied: kiwisolver>=1.3.1 in /usr/local/lib/python3.11/dist-packages (from matplotlib->se-lib->-r requirements.txt (line 2)) (1.4.8)\n",
            "Requirement already satisfied: numpy>=1.23 in /usr/local/lib/python3.11/dist-packages (from matplotlib->se-lib->-r requirements.txt (line 2)) (2.0.2)\n",
            "Requirement already satisfied: packaging>=20.0 in /usr/local/lib/python3.11/dist-packages (from matplotlib->se-lib->-r requirements.txt (line 2)) (24.2)\n",
            "Requirement already satisfied: pillow>=8 in /usr/local/lib/python3.11/dist-packages (from matplotlib->se-lib->-r requirements.txt (line 2)) (11.2.1)\n",
            "Requirement already satisfied: pyparsing>=2.3.1 in /usr/local/lib/python3.11/dist-packages (from matplotlib->se-lib->-r requirements.txt (line 2)) (3.2.3)\n",
            "Requirement already satisfied: python-dateutil>=2.7 in /usr/local/lib/python3.11/dist-packages (from matplotlib->se-lib->-r requirements.txt (line 2)) (2.9.0.post0)\n",
            "Requirement already satisfied: pytz>=2020.1 in /usr/local/lib/python3.11/dist-packages (from pandas->se-lib->-r requirements.txt (line 2)) (2025.2)\n",
            "Requirement already satisfied: tzdata>=2022.7 in /usr/local/lib/python3.11/dist-packages (from pandas->se-lib->-r requirements.txt (line 2)) (2025.2)\n",
            "Requirement already satisfied: parsimonious in /usr/local/lib/python3.11/dist-packages (from pysd->se-lib->-r requirements.txt (line 2)) (0.10.0)\n",
            "Requirement already satisfied: xarray>=2023.9 in /usr/local/lib/python3.11/dist-packages (from pysd->se-lib->-r requirements.txt (line 2)) (2025.3.1)\n",
            "Requirement already satisfied: lxml in /usr/local/lib/python3.11/dist-packages (from pysd->se-lib->-r requirements.txt (line 2)) (5.4.0)\n",
            "Requirement already satisfied: regex in /usr/local/lib/python3.11/dist-packages (from pysd->se-lib->-r requirements.txt (line 2)) (2024.11.6)\n",
            "Requirement already satisfied: chardet in /usr/local/lib/python3.11/dist-packages (from pysd->se-lib->-r requirements.txt (line 2)) (5.2.0)\n",
            "Requirement already satisfied: black in /usr/local/lib/python3.11/dist-packages (from pysd->se-lib->-r requirements.txt (line 2)) (25.1.0)\n",
            "Requirement already satisfied: openpyxl>=3.1.2 in /usr/local/lib/python3.11/dist-packages (from pysd->se-lib->-r requirements.txt (line 2)) (3.1.5)\n",
            "Requirement already satisfied: scipy in /usr/local/lib/python3.11/dist-packages (from pysd->se-lib->-r requirements.txt (line 2)) (1.15.3)\n",
            "Requirement already satisfied: progressbar2 in /usr/local/lib/python3.11/dist-packages (from pysd->se-lib->-r requirements.txt (line 2)) (4.5.0)\n",
            "Requirement already satisfied: portion in /usr/local/lib/python3.11/dist-packages (from pysd->se-lib->-r requirements.txt (line 2)) (2.6.1)\n",
            "Requirement already satisfied: parso<0.9.0,>=0.8.4 in /usr/local/lib/python3.11/dist-packages (from jedi>=0.16->ipython->se-lib->-r requirements.txt (line 2)) (0.8.4)\n",
            "Requirement already satisfied: et-xmlfile in /usr/local/lib/python3.11/dist-packages (from openpyxl>=3.1.2->pysd->se-lib->-r requirements.txt (line 2)) (2.0.0)\n",
            "Requirement already satisfied: ptyprocess>=0.5 in /usr/local/lib/python3.11/dist-packages (from pexpect>4.3->ipython->se-lib->-r requirements.txt (line 2)) (0.7.0)\n",
            "Requirement already satisfied: wcwidth in /usr/local/lib/python3.11/dist-packages (from prompt-toolkit!=3.0.0,!=3.0.1,<3.1.0,>=2.0.0->ipython->se-lib->-r requirements.txt (line 2)) (0.2.13)\n",
            "Requirement already satisfied: six>=1.5 in /usr/local/lib/python3.11/dist-packages (from python-dateutil>=2.7->matplotlib->se-lib->-r requirements.txt (line 2)) (1.17.0)\n",
            "Requirement already satisfied: mypy-extensions>=0.4.3 in /usr/local/lib/python3.11/dist-packages (from black->pysd->se-lib->-r requirements.txt (line 2)) (1.1.0)\n",
            "Requirement already satisfied: pathspec>=0.9.0 in /usr/local/lib/python3.11/dist-packages (from black->pysd->se-lib->-r requirements.txt (line 2)) (0.12.1)\n",
            "Requirement already satisfied: platformdirs>=2 in /usr/local/lib/python3.11/dist-packages (from black->pysd->se-lib->-r requirements.txt (line 2)) (4.3.8)\n",
            "Requirement already satisfied: odfpy>=1.4.1 in /usr/local/lib/python3.11/dist-packages (from pandas[excel]->pysd->se-lib->-r requirements.txt (line 2)) (1.4.1)\n",
            "Requirement already satisfied: python-calamine>=0.1.7 in /usr/local/lib/python3.11/dist-packages (from pandas[excel]->pysd->se-lib->-r requirements.txt (line 2)) (0.3.2)\n",
            "Requirement already satisfied: pyxlsb>=1.0.10 in /usr/local/lib/python3.11/dist-packages (from pandas[excel]->pysd->se-lib->-r requirements.txt (line 2)) (1.0.10)\n",
            "Requirement already satisfied: xlrd>=2.0.1 in /usr/local/lib/python3.11/dist-packages (from pandas[excel]->pysd->se-lib->-r requirements.txt (line 2)) (2.0.1)\n",
            "Requirement already satisfied: xlsxwriter>=3.0.5 in /usr/local/lib/python3.11/dist-packages (from pandas[excel]->pysd->se-lib->-r requirements.txt (line 2)) (3.2.3)\n",
            "Requirement already satisfied: sortedcontainers~=2.2 in /usr/local/lib/python3.11/dist-packages (from portion->pysd->se-lib->-r requirements.txt (line 2)) (2.4.0)\n",
            "Requirement already satisfied: python-utils>=3.8.1 in /usr/local/lib/python3.11/dist-packages (from progressbar2->pysd->se-lib->-r requirements.txt (line 2)) (3.9.1)\n",
            "Requirement already satisfied: defusedxml in /usr/local/lib/python3.11/dist-packages (from odfpy>=1.4.1->pandas[excel]->pysd->se-lib->-r requirements.txt (line 2)) (0.7.1)\n",
            "Requirement already satisfied: typing_extensions>3.10.0.2 in /usr/local/lib/python3.11/dist-packages (from python-utils>=3.8.1->progressbar2->pysd->se-lib->-r requirements.txt (line 2)) (4.13.2)\n",
            "agent.py  app.py  requirements.txt  simulation.py  statdiagram.py\n"
          ]
        }
      ],
      "source": [
        "# Clone your GitHub repo and install dependencies\n",
        "%cd /content/\n",
        "!rm -rf SE3250-Spring2025-SquadSimulation\n",
        "!git clone https://github.com/SuprMunchkin/SE3250-Spring2025-SquadSimulation.git\n",
        "%cd SE3250-Spring2025-SquadSimulation\n",
        "!pip install -r requirements.txt\n",
        "%ls"
      ]
    },
    {
      "cell_type": "code",
      "source": [
        "# Run this codeblock to change branches or pull down the latest changes.\n",
        "# Be sure to change the branch name to the one you are working on!\n",
        "!git fetch\n",
        "!git checkout Justin\n",
        "!git pull\n",
        "%ls"
      ],
      "metadata": {
        "id": "pamA-bcnQy1S",
        "outputId": "0bcb2603-20c8-45f4-ea4f-f566b5fbef25",
        "colab": {
          "base_uri": "https://localhost:8080/"
        }
      },
      "id": "pamA-bcnQy1S",
      "execution_count": 57,
      "outputs": [
        {
          "output_type": "stream",
          "name": "stdout",
          "text": [
            "Branch 'Justin' set up to track remote branch 'Justin' from 'origin'.\n",
            "Switched to a new branch 'Justin'\n",
            "Already up to date.\n",
            "\u001b[0m\u001b[01;34mapp\u001b[0m/  app.py  \u001b[01;34mnotebook\u001b[0m/  \u001b[01;34m__pycache__\u001b[0m/  requirements.txt  statdiagram.py  \u001b[01;34mview\u001b[0m/\n"
          ]
        }
      ]
    },
    {
      "cell_type": "code",
      "execution_count": 58,
      "id": "e79b6fd8",
      "metadata": {
        "id": "e79b6fd8",
        "outputId": "4741720a-6f5b-4c99-97f0-8cb08544595a",
        "colab": {
          "base_uri": "https://localhost:8080/",
          "height": 384
        }
      },
      "outputs": [
        {
          "output_type": "error",
          "ename": "ModuleNotFoundError",
          "evalue": "No module named 'simulation_model'",
          "traceback": [
            "\u001b[0;31m---------------------------------------------------------------------------\u001b[0m",
            "\u001b[0;31mModuleNotFoundError\u001b[0m                       Traceback (most recent call last)",
            "\u001b[0;32m<ipython-input-58-ef596513a6c2>\u001b[0m in \u001b[0;36m<cell line: 0>\u001b[0;34m()\u001b[0m\n\u001b[1;32m      6\u001b[0m \u001b[0;34m\u001b[0m\u001b[0m\n\u001b[1;32m      7\u001b[0m \u001b[0msys\u001b[0m\u001b[0;34m.\u001b[0m\u001b[0mpath\u001b[0m\u001b[0;34m.\u001b[0m\u001b[0mappend\u001b[0m\u001b[0;34m(\u001b[0m\u001b[0;34m\"app/model\"\u001b[0m\u001b[0;34m)\u001b[0m\u001b[0;34m\u001b[0m\u001b[0;34m\u001b[0m\u001b[0m\n\u001b[0;32m----> 8\u001b[0;31m \u001b[0;32mfrom\u001b[0m \u001b[0msimulation_model\u001b[0m \u001b[0;32mimport\u001b[0m \u001b[0mrun_simulation\u001b[0m\u001b[0;34m\u001b[0m\u001b[0;34m\u001b[0m\u001b[0m\n\u001b[0m\u001b[1;32m      9\u001b[0m \u001b[0;34m\u001b[0m\u001b[0m\n\u001b[1;32m     10\u001b[0m \u001b[0;31m# Load config\u001b[0m\u001b[0;34m\u001b[0m\u001b[0;34m\u001b[0m\u001b[0m\n",
            "\u001b[0;31mModuleNotFoundError\u001b[0m: No module named 'simulation_model'",
            "",
            "\u001b[0;31m---------------------------------------------------------------------------\u001b[0;32m\nNOTE: If your import is failing due to a missing package, you can\nmanually install dependencies using either !pip or !apt.\n\nTo view examples of installing some common dependencies, click the\n\"Open Examples\" button below.\n\u001b[0;31m---------------------------------------------------------------------------\u001b[0m\n"
          ],
          "errorDetails": {
            "actions": [
              {
                "action": "open_url",
                "actionText": "Open Examples",
                "url": "/notebooks/snippets/importing_libraries.ipynb"
              }
            ]
          }
        }
      ],
      "source": [
        "# Import and setup\n",
        "import sys\n",
        "import yaml\n",
        "import matplotlib.pyplot as plt\n",
        "from ipywidgets import interact\n",
        "\n",
        "sys.path.append(\"app/model\")\n",
        "from squad_simulation import *\n",
        "\n",
        "# Load config\n",
        "with open(\"config/simulation_config.yaml\", \"r\") as f:\n",
        "    config = yaml.safe_load(f)\n"
      ]
    },
    {
      "cell_type": "code",
      "execution_count": null,
      "id": "98a8b761",
      "metadata": {
        "id": "98a8b761"
      },
      "outputs": [],
      "source": [
        "# Define static fire rate config\n",
        "fire_rates = {\n",
        "    \"blue_min\": 1,\n",
        "    \"blue_max\": 15,\n",
        "    \"hostile_min\": 1,\n",
        "    \"hostile_max\": 10\n",
        "}\n"
      ]
    },
    {
      "cell_type": "code",
      "execution_count": null,
      "id": "dba84dea",
      "metadata": {
        "id": "dba84dea"
      },
      "outputs": [],
      "source": [
        "# Define interactive runner\n",
        "def run_interactive_sim(blue_stock, hostile_stock, direction_deviation, armor_type, environment):\n",
        "    params = {\n",
        "        \"blue_stock\": blue_stock,\n",
        "        \"hostile_stock\": hostile_stock,\n",
        "        \"direction_deviation\": direction_deviation,\n",
        "        \"armor_type\": armor_type,\n",
        "        \"environment\": environment\n",
        "    }\n",
        "    result = run_simulation(config, params, fire_rates)\n",
        "\n",
        "    positions = result['positions']\n",
        "    hostile_positions = result['hostile_positions']\n",
        "    x_vals, y_vals = zip(*positions)\n",
        "    hx_vals, hy_vals = zip(*hostile_positions)\n",
        "\n",
        "    plt.figure(figsize=(8, 6))\n",
        "    plt.plot(x_vals, y_vals, label='Blue Patrol Path', color='blue')\n",
        "    plt.plot(hx_vals, hy_vals, label='Hostile Path', linestyle='--', color='red')\n",
        "    plt.scatter(x_vals[0], y_vals[0], c='green', label='Start', zorder=5)\n",
        "    plt.scatter(x_vals[-1], y_vals[-1], c='purple', label='End', zorder=5)\n",
        "    plt.title(\"Squad Movement Simulation\")\n",
        "    plt.xlabel(\"X Position\")\n",
        "    plt.ylabel(\"Y Position\")\n",
        "    plt.legend()\n",
        "    plt.grid(True)\n",
        "    plt.axis('equal')\n",
        "    plt.show()\n",
        "\n",
        "    print(f\"👥 Blue Remaining: {result['blue']['stock']} / {params['blue_stock']}\")\n",
        "    print(f\"🔴 Hostile Remaining: {result['hostile']['stock']} / {params['hostile_stock']}\")\n"
      ]
    },
    {
      "cell_type": "code",
      "execution_count": null,
      "id": "baa4efee",
      "metadata": {
        "id": "baa4efee"
      },
      "outputs": [],
      "source": [
        "# Create interactive widget interface\n",
        "interact(\n",
        "    run_interactive_sim,\n",
        "    blue_stock=(1, 20),\n",
        "    hostile_stock=(1, 40),\n",
        "    direction_deviation=(0, 45, 5),\n",
        "    armor_type=list(config['armor_profiles'].keys()),\n",
        "    environment=list(config['threat_probs'].keys())\n",
        ")\n"
      ]
    }
  ],
  "metadata": {
    "colab": {
      "provenance": []
    },
    "language_info": {
      "name": "python"
    },
    "kernelspec": {
      "name": "python3",
      "display_name": "Python 3"
    }
  },
  "nbformat": 4,
  "nbformat_minor": 5
}