{
 "cells": [
  {
   "cell_type": "code",
   "execution_count": null,
   "id": "69985024",
   "metadata": {
    "vscode": {
     "languageId": "plaintext"
    }
   },
   "outputs": [],
   "source": [
    "# Clone the GitHub repo (replace with your actual repo URL)\n",
    "# !git clone https://github.com/SuprMunchkin/SE3250-Spring2025-SquadSimulation.git\n",
    "\n",
    "# Bootstrap to allow access to python libraries\n",
    "import sys\n",
    "sys.path.append(\"..\")\n",
    "%cd SE3250-Spring2025-SquadSimulation\n",
    "\n",
    "# Verify the folder structure\n",
    "!ls -R\n",
    "\n",
    "# Install required dependencies (you may need to modify this list)\n",
    "!pip install -r requirements.txt"
   ]
  },
  {
   "cell_type": "code",
   "execution_count": null,
   "id": "63b93802",
   "metadata": {
    "vscode": {
     "languageId": "plaintext"
    }
   },
   "outputs": [],
   "source": [
    "import sys\n",
    "sys.path.append(\"../app/model\")\n",
    "from squad_simulation import run_simulation\n",
    "\n",
    "# Use run_simulation(...) in your widget callbacks"
   ]
  }
 ],
 "metadata": {
  "language_info": {
   "name": "python"
  }
 },
 "nbformat": 4,
 "nbformat_minor": 5
}
