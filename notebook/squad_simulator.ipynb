{
  "cells": [
    {
      "cell_type": "markdown",
      "id": "fbeb0ee0",
      "metadata": {
        "id": "fbeb0ee0"
      },
      "source": [
        "# 🛡️ Interactive Squad Simulation\n",
        "Use the sliders and dropdowns below to run and visualize the simulation."
      ]
    },
    {
      "cell_type": "code",
      "execution_count": null,
      "id": "113da30a",
      "metadata": {
        "id": "113da30a"
      },
      "outputs": [],
      "source": [
        "# Clone your GitHub repo and install dependencies\n",
        "%cd /content/\n",
        "!rm -rf SE3250-Spring2025-SquadSimulation\n",
        "!git clone https://github.com/SuprMunchkin/SE3250-Spring2025-SquadSimulation.git\n",
        "%cd SE3250-Spring2025-SquadSimulation\n",
        "!pip install -r requirements.txt\n",
        "%ls"
      ]
    },
    {
      "cell_type": "code",
      "source": [
        "# Run this codeblock to change branches or pull down the latest changes.\n",
        "# Be sure to change the branch name to the one you are working on!\n",
        "!git fetch\n",
        "!git checkout Justin\n",
        "!git pull\n",
        "%ls"
      ],
      "metadata": {
        "id": "pamA-bcnQy1S"
      },
      "id": "pamA-bcnQy1S",
      "execution_count": null,
      "outputs": []
    },
    {
      "cell_type": "code",
      "execution_count": null,
      "id": "e79b6fd8",
      "metadata": {
        "id": "e79b6fd8"
      },
      "outputs": [],
      "source": [
        "# Import and setup\n",
        "import sys\n",
        "import yaml\n",
        "import matplotlib.pyplot as plt\n",
        "from ipywidgets import interact\n",
        "\n",
        "sys.path.append(\"app/model\")\n",
        "from squad_simulation import *\n",
        "\n",
        "# Load config\n",
        "with open(\"config/simulation_config.yaml\", \"r\") as f:\n",
        "    config = yaml.safe_load(f)\n"
      ]
    },
    {
      "cell_type": "code",
      "execution_count": null,
      "id": "98a8b761",
      "metadata": {
        "id": "98a8b761"
      },
      "outputs": [],
      "source": [
        "# Define static fire rate config\n",
        "fire_rates = {\n",
        "    \"blue_min\": 1,\n",
        "    \"blue_max\": 15,\n",
        "    \"hostile_min\": 1,\n",
        "    \"hostile_max\": 10\n",
        "}\n"
      ]
    },
    {
      "cell_type": "code",
      "execution_count": null,
      "id": "dba84dea",
      "metadata": {
        "id": "dba84dea"
      },
      "outputs": [],
      "source": [
        "# Define interactive runner\n",
        "def run_interactive_sim(blue_stock, hostile_stock, direction_deviation, armor_type, environment):\n",
        "    params = {\n",
        "        \"blue_stock\": blue_stock,\n",
        "        \"hostile_stock\": hostile_stock,\n",
        "        \"direction_deviation\": direction_deviation,\n",
        "        \"armor_type\": armor_type,\n",
        "        \"environment\": environment\n",
        "    }\n",
        "    result = run_simulation(config, params, fire_rates)\n",
        "\n",
        "    positions = result['positions']\n",
        "    hostile_positions = result['hostile_positions']\n",
        "    x_vals, y_vals = zip(*positions)\n",
        "    hx_vals, hy_vals = zip(*hostile_positions)\n",
        "\n",
        "    plt.figure(figsize=(8, 6))\n",
        "    plt.plot(x_vals, y_vals, label='Blue Patrol Path', color='blue')\n",
        "    plt.plot(hx_vals, hy_vals, label='Hostile Path', linestyle='--', color='red')\n",
        "    plt.scatter(x_vals[0], y_vals[0], c='green', label='Start', zorder=5)\n",
        "    plt.scatter(x_vals[-1], y_vals[-1], c='purple', label='End', zorder=5)\n",
        "    plt.title(\"Squad Movement Simulation\")\n",
        "    plt.xlabel(\"X Position\")\n",
        "    plt.ylabel(\"Y Position\")\n",
        "    plt.legend()\n",
        "    plt.grid(True)\n",
        "    plt.axis('equal')\n",
        "    plt.show()\n",
        "\n",
        "    print(f\"👥 Blue Remaining: {result['blue']['stock']} / {params['blue_stock']}\")\n",
        "    print(f\"🔴 Hostile Remaining: {result['hostile']['stock']} / {params['hostile_stock']}\")\n"
      ]
    },
    {
      "cell_type": "code",
      "execution_count": null,
      "id": "baa4efee",
      "metadata": {
        "id": "baa4efee"
      },
      "outputs": [],
      "source": [
        "# Create interactive widget interface\n",
        "interact(\n",
        "    run_interactive_sim,\n",
        "    blue_stock=(1, 20),\n",
        "    hostile_stock=(1, 40),\n",
        "    direction_deviation=(0, 45, 5),\n",
        "    armor_type=list(config['armor_profiles'].keys()),\n",
        "    environment=list(config['threat_probs'].keys())\n",
        ")\n"
      ]
    }
  ],
  "metadata": {
    "colab": {
      "provenance": []
    },
    "language_info": {
      "name": "python"
    },
    "kernelspec": {
      "name": "python3",
      "display_name": "Python 3"
    }
  },
  "nbformat": 4,
  "nbformat_minor": 5
}